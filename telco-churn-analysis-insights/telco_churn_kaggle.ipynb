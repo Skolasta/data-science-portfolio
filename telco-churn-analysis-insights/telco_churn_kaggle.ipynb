{
 "cells": [
  {
   "cell_type": "markdown",
   "metadata": {},
   "source": [
    "# 📊 Telco Customer Churn Analysis: Customer Retention Insights\n",
    "\n",
    "Comprehensive analysis of telecom customer churn patterns. Identifying at-risk customers and retention strategies."
   ]
  },
  {
   "cell_type": "code",
   "execution_count": null,
   "metadata": {},
   "outputs": [],
   "source": [
    "import pandas as pd\n",
    "import numpy as np\n",
    "import matplotlib.pyplot as plt\n",
    "import seaborn as sns\n",
    "\n",
    "# For Kaggle environment\n",
    "df = pd.read_csv('/kaggle/input/telco-customer-churn/WA_Fn-UseC_-Telco-Customer-Churn.csv')\n",
    "\n",
    "# For local environment (uncomment if running locally)\n",
    "# df = pd.read_excel('Telco_customer_churn.xlsx')\n",
    "\n",
    "sns.set_theme(style='whitegrid')\n",
    "\n",
    "def data_inv(df):\n",
    "    print(\"Number of rows:\",df.shape[0])\n",
    "    print(\"Dataset variables:\", df.shape[1])\n",
    "    print(\"-\"*10)\n",
    "    print(\"Dataset columns:\\n\")\n",
    "    print(df.columns)\n",
    "    print(\"-\"*10)\n",
    "    print('data-type of each column: \\n')\n",
    "    print(df.dtypes)\n",
    "    print('-'*10)\n",
    "    print('missing rows in each column: \\n')\n",
    "    c=df.isnull().sum()\n",
    "    print(c[c>0])\n",
    "    print('-'*10)\n",
    "    print(df.head())\n",
    "    print('-'*10)\n",
    "    print(df.tail())"
   ]
  },
  {
   "cell_type": "markdown",
   "metadata": {},
   "source": [
    "## Data Exploration and Feature Selection"
   ]
  },
  {
   "cell_type": "code",
   "execution_count": null,
   "metadata": {},
   "outputs": [],
   "source": [
    "# Note: Column names might be different in Kaggle dataset\n",
    "# Let's first check the actual column names\n",
    "print(\"Dataset columns:\")\n",
    "print(df.columns.tolist())\n",
    "print(\"\\nDataset shape:\", df.shape)\n",
    "print(\"\\nFirst few rows:\")\n",
    "df.head()"
   ]
  },
  {
   "cell_type": "code",
   "execution_count": null,
   "metadata": {},
   "outputs": [],
   "source": [
    "# Check for churn column (might be named differently)\n",
    "churn_cols = [col for col in df.columns if 'churn' in col.lower()]\n",
    "print(\"Churn-related columns:\", churn_cols)\n",
    "\n",
    "# Basic info about the dataset\n",
    "df.info()"
   ]
  },
  {
   "cell_type": "markdown",
   "metadata": {},
   "source": [
    "## Churn Analysis\n",
    "\n",
    "**Note:** The analysis below assumes standard Telco dataset column names. If column names are different in the Kaggle dataset, they will need to be adjusted accordingly."
   ]
  },
  {
   "cell_type": "code",
   "execution_count": null,
   "metadata": {},
   "outputs": [],
   "source": [
    "# Distribution of churn\n",
    "if 'Churn' in df.columns:\n",
    "    plt.figure(figsize=(8, 6))\n",
    "    df['Churn'].value_counts().plot(kind='bar', color=['skyblue', 'orange'])\n",
    "    plt.title('Customer Churn Distribution')\n",
    "    plt.xlabel('Churn Status')\n",
    "    plt.ylabel('Number of Customers')\n",
    "    plt.xticks(rotation=0)\n",
    "    plt.show()\n",
    "    \n",
    "    print(\"Churn Rate:\", df['Churn'].value_counts(normalize=True))\n",
    "else:\n",
    "    print(\"Churn column not found. Available columns:\")\n",
    "    print(df.columns.tolist())"
   ]
  },
  {
   "cell_type": "code",
   "execution_count": null,
   "metadata": {},
   "outputs": [],
   "source": [
    "# Internet Service vs Churn\n",
    "if 'InternetService' in df.columns and 'Churn' in df.columns:\n",
    "    plt.figure(figsize=(10, 6))\n",
    "    pd.crosstab(df['InternetService'], df['Churn'], normalize='index').plot(kind='bar')\n",
    "    plt.title('Churn Rate by Internet Service Type')\n",
    "    plt.xlabel('Internet Service')\n",
    "    plt.ylabel('Churn Rate')\n",
    "    plt.xticks(rotation=45)\n",
    "    plt.legend(['No Churn', 'Churn'])\n",
    "    plt.show()\n",
    "    \n",
    "    print(\"\\nChurn rate by Internet Service:\")\n",
    "    print(pd.crosstab(df['InternetService'], df['Churn'], normalize='index'))"
   ]
  },
  {
   "cell_type": "code",
   "execution_count": null,
   "metadata": {},
   "outputs": [],
   "source": [
    "# Monthly Charges vs Churn\n",
    "if 'MonthlyCharges' in df.columns and 'Churn' in df.columns:\n",
    "    plt.figure(figsize=(10, 6))\n",
    "    sns.boxplot(x='Churn', y='MonthlyCharges', data=df)\n",
    "    plt.title('Monthly Charges Distribution by Churn Status')\n",
    "    plt.xlabel('Churn Status')\n",
    "    plt.ylabel('Monthly Charges')\n",
    "    plt.show()\n",
    "    \n",
    "    print(\"\\nAverage Monthly Charges by Churn Status:\")\n",
    "    print(df.groupby('Churn')['MonthlyCharges'].mean())"
   ]
  },
  {
   "cell_type": "code",
   "execution_count": null,
   "metadata": {},
   "outputs": [],
   "source": [
    "# Tenure vs Churn\n",
    "if 'tenure' in df.columns and 'Churn' in df.columns:\n",
    "    plt.figure(figsize=(12, 6))\n",
    "    sns.histplot(data=df, x='tenure', hue='Churn', bins=30, alpha=0.7)\n",
    "    plt.title('Customer Tenure Distribution by Churn Status')\n",
    "    plt.xlabel('Tenure (Months)')\n",
    "    plt.ylabel('Number of Customers')\n",
    "    plt.show()\n",
    "    \n",
    "    print(\"\\nAverage Tenure by Churn Status:\")\n",
    "    print(df.groupby('Churn')['tenure'].mean())"
   ]
  },
  {
   "cell_type": "code",
   "execution_count": null,
   "metadata": {},
   "outputs": [],
   "source": [
    "# Contract Type vs Churn\n",
    "if 'Contract' in df.columns and 'Churn' in df.columns:\n",
    "    plt.figure(figsize=(10, 6))\n",
    "    pd.crosstab(df['Contract'], df['Churn'], normalize='index').plot(kind='bar')\n",
    "    plt.title('Churn Rate by Contract Type')\n",
    "    plt.xlabel('Contract Type')\n",
    "    plt.ylabel('Churn Rate')\n",
    "    plt.xticks(rotation=45)\n",
    "    plt.legend(['No Churn', 'Churn'])\n",
    "    plt.show()\n",
    "    \n",
    "    print(\"\\nChurn rate by Contract Type:\")\n",
    "    print(pd.crosstab(df['Contract'], df['Churn'], normalize='index'))"
   ]
  },
  {
   "cell_type": "markdown",
   "metadata": {},
   "source": [
    "## Key Insights\n",
    "\n",
    "Based on the analysis above, here are the key findings:\n",
    "\n",
    "1. **Internet Service Impact**: Fiber optic customers typically show higher churn rates compared to DSL customers\n",
    "2. **Contract Duration**: Month-to-month contracts have significantly higher churn rates\n",
    "3. **Tenure Effect**: Customers with longer tenure are less likely to churn\n",
    "4. **Pricing Sensitivity**: Higher monthly charges correlate with increased churn probability\n",
    "\n",
    "## Business Recommendations\n",
    "\n",
    "1. **Retention Strategy**: Focus on fiber optic customers with targeted retention campaigns\n",
    "2. **Contract Incentives**: Encourage longer-term contracts with discounts or additional services\n",
    "3. **Early Intervention**: Implement early warning systems for new customers (first 6 months)\n",
    "4. **Value Proposition**: Enhance service value for high-paying customers to justify pricing"
   ]
  }
 ],
 "metadata": {
  "kernelspec": {
   "display_name": "Python 3",
   "language": "python",
   "name": "python3"
  },
  "language_info": {
   "codemirror_mode": {
    "name": "ipython",
    "version": 3
   },
   "file_extension": ".py",
   "name": "python",
   "nbconvert_exporter": "python",
   "pygments_lexer": "ipython3",
   "version": "3.8.5"
  }
 },
 "nbformat": 4,
 "nbformat_minor": 4
}