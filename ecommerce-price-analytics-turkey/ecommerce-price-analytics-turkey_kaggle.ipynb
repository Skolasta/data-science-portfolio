{
 "cells": [
  {
   "cell_type": "markdown",
   "metadata": {},
   "source": [
    "#  Turkish E-Commerce TV Market Deep Dive: Trendyol vs Hepsiburada Price War Analysis\n",
    "\n",
    "##   Uncovering the Secrets Behind Turkey's Billion-Dollar TV Market\n",
    "\n",
    "Welcome to an exclusive analysis of Turkey's competitive e-commerce landscape! This comprehensive study examines TV pricing strategies, consumer preferences, and market dynamics across Turkey's two e-commerce giants: **Trendyol** and **Hepsiburada**.\n",
    "\n",
    "### 🎯 What You'll Discover:\n",
    "- **Price war dynamics** between Turkey's top e-commerce platforms\n",
    "- **Premium vs budget brand strategies** and their market positioning\n",
    "- **Technology trends** driving consumer choices (OLED, QLED, Smart TV features)\n",
    "- **Seasonal pricing patterns** and discount strategies\n",
    "- **Consumer behavior insights** through review and rating analysis\n",
    "- **Market share battles** and platform-specific advantages\n",
    "\n",
    "Let's dive deep into the data and uncover the strategic moves shaping Turkey's digital marketplace!"
   ]
  },
  {
   "cell_type": "markdown",
   "metadata": {},
   "source": [
    "## 🔧 Essential Libraries & Data Arsenal\n",
    "\n",
    "Loading our analytical toolkit and the comprehensive datasets from Turkey's leading e-commerce platforms. We're about to analyze thousands of TV listings to understand market dynamics!"
   ]
  },
  {
   "cell_type": "code",
   "execution_count": null,
   "metadata": {},
   "outputs": [],
   "source": []
  },
  {
   "cell_type": "code",
   "execution_count": null,
   "metadata": {},
   "outputs": [],
   "source": [
    "import pandas as pd \n",
    "import numpy as np\n",
    "import matplotlib.pyplot as plt\n",
    "import seaborn as sns\n",
    "df_trendyol = pd.read_csv(\"trendyol_tv_verileri.csv\", encoding='utf-8-sig')\n",
    "df_hepsiburada = pd.read_csv(\"hepsiburada_tv_verileri.csv\", encoding='utf-8-sig')\n",
    "\n",
    "def data_inv(df):\n",
    "    print(\"Number of rows:\",df.shape[0])\n",
    "    print(\"Dataset variables:\", df.shape[1])\n",
    "    print(\"-\"*10)\n",
    "    print(\"Dataset columns:\\n\")\n",
    "    print(df.columns)\n",
    "    print(\"-\"*10)\n",
    "    print('data-type of each column: \\n')\n",
    "    print(df.dtypes)\n",
    "    print('-'*10)\n",
    "    print('missing rows in each column: \\n')\n",
    "    c=df.isnull().sum()\n",
    "    print(c[c>0])\n",
    "    print('-'*10)\n",
    "    print(df.head())\n",
    "    print('-'*10)\n",
    "    print(df.tail())"
   ]
  },
  {
   "cell_type": "markdown",
   "metadata": {},
   "source": [
    "## 🔍 Data Quality Control: Preparing for Battle\n",
    "\n",
    "Before we can uncover market insights, we need to clean and standardize our data. Turkish e-commerce data comes with unique challenges - different formatting, currency symbols, and review systems that need careful handling."
   ]
  },
  {
   "cell_type": "code",
   "execution_count": null,
   "metadata": {},
   "outputs": [],
   "source": [
    "def yorum_duzenleme(df):\n",
    "    df['Yorum Sayisi'] = df['Yorum Sayisi'].astype(str)\n",
    "    df['Yorum Sayisi'] = df['Yorum Sayisi'].str.replace('(', '') \\\n",
    "                                           .str.replace(')', '') \\\n",
    "                                           .str.replace(',', '.') \\\n",
    "                                           .replace('Yorum Yok', '0')\n",
    "    df['Yorum Sayisi'] = pd.to_numeric(df['Yorum Sayisi'], errors='coerce').fillna(0)\n",
    "    df['Yorum Sayisi'] = df['Yorum Sayisi'].astype(np.int64)\n",
    "\n",
    "def puan_duzenleme(df):\n",
    "    df['Kullanici Puani'] = df['Kullanici Puani'].replace('Puan Yok', '0')  \n",
    "    df['Kullanici Puani'] = df['Kullanici Puani'].astype(str).str.replace(',', '.', regex=False)\n",
    "    df['Kullanici Puani'] = pd.to_numeric(df['Kullanici Puani'], errors='coerce').fillna(0)  \n",
    "    df['Kullanici Puani'] = df['Kullanici Puani'].astype(np.float64)"
   ]
  },
  {
   "cell_type": "markdown",
   "metadata": {},
   "source": [
    "## 🧹 Data Transformation & Platform Unification\n",
    "\n",
    "Now we're standardizing data formats across both platforms and creating a unified dataset. This crucial step allows us to make fair comparisons between Trendyol and Hepsiburada's pricing strategies and market approaches."
   ]
  },
  {
   "cell_type": "code",
   "execution_count": null,
   "metadata": {},
   "outputs": [],
   "source": [
    "df_trendyol['Tarih'] = pd.to_datetime(df_trendyol['Tarih'])\n",
    "df_hepsiburada['Tarih'] = pd.to_datetime(df_hepsiburada['Tarih'])\n",
    "\n",
    "df_trendyol['Fiyat'] = pd.to_numeric(df_trendyol['Fiyat'], errors='coerce').fillna(0).astype(np.int64)\n",
    "df_hepsiburada['Fiyat'] = pd.to_numeric(df_hepsiburada['Fiyat'], errors='coerce').fillna(0).astype(np.int64)\n",
    "\n",
    "df_hepsiburada['Marka'] = df_hepsiburada['Marka'].str.lower().str.capitalize()\n",
    "df_trendyol['Marka'] = df_trendyol['Marka'].str.lower().str.capitalize()\n",
    "\n",
    "puan_duzenleme(df_hepsiburada)\n",
    "puan_duzenleme(df_trendyol)\n",
    "\n",
    "yorum_duzenleme(df_hepsiburada)\n",
    "yorum_duzenleme(df_trendyol)\n",
    "\n",
    "df_combined = pd.concat([df_hepsiburada, df_trendyol], ignore_index=True)"
   ]
  },
  {
   "cell_type": "markdown",
   "metadata": {},
   "source": [
    "## 💰 The Premium Brand Hierarchy: Who Commands the Highest Prices?\n",
    "\n",
    "Let's uncover which TV brands dominate the premium segment in Turkey's market. This analysis reveals the brand positioning strategies and consumer willingness to pay premium prices."
   ]
  },
  {
   "cell_type": "code",
   "execution_count": null,
   "metadata": {},
   "outputs": [],
   "source": [
    "df_combined.groupby('Marka')['Fiyat'].mean().sort_values(ascending=False).head(10).plot(kind='bar', color='purple', figsize=(15, 10))\n",
    "plt.xlabel('Brand')\n",
    "plt.ylabel('Average Price')\n",
    "plt.title('Average TV Prices by Brand')\n",
    "plt.show()"
   ]
  },
  {
   "cell_type": "markdown",
   "metadata": {},
   "source": [
    "## 📊 Platform Battle: Inventory & Market Share Analysis\n",
    "\n",
    "Which platform offers more variety? Are there seasonal patterns in product availability? This analysis reveals the competitive dynamics between Turkey's e-commerce giants."
   ]
  },
  {
   "cell_type": "code",
   "execution_count": null,
   "metadata": {},
   "outputs": [],
   "source": [
    "df_plot = df_combined.groupby(['Kaynak', 'Tarih'])['Ürün Adı'].count().sort_values(ascending=False).head(10)\n",
    "df_plot.plot(kind='bar', color='teal', figsize=(15, 10))\n",
    "plt.xlabel('Source and Date')\n",
    "plt.ylabel('Product Count')\n",
    "plt.title('Product Counts by Source')\n",
    "plt.xticks(rotation=45)\n",
    "plt.tight_layout()\n",
    "plt.show()"
   ]
  },
  {
   "cell_type": "markdown",
   "metadata": {},
   "source": [
    "## 🔬 Technology Intelligence: Feature Engineering for Market Insights\n",
    "\n",
    "We're now extracting valuable technology features from product names to understand market trends. This includes display technologies (OLED, QLED), resolutions (4K, 8K), and smart features that drive consumer decisions."
   ]
  },
  {
   "cell_type": "code",
   "execution_count": null,
   "metadata": {},
   "outputs": [],
   "source": [
    "ekran = ['QLED', 'OLED', 'LED', 'Mini LED','QNED']\n",
    "\n",
    "def ekran_teknolojisi_belirle(row):\n",
    "    for teknoloji in ekran:\n",
    "        if teknoloji in row['Ürün Adı']:\n",
    "            return teknoloji\n",
    "    return 'Other'\n",
    "\n",
    "df_combined['Ekran'] = df_combined.apply(ekran_teknolojisi_belirle, axis=1)\n",
    "\n",
    "ekran_kalitesi = ['4K', '8K','HD', 'Full HD', 'UHD','2K']\n",
    "\n",
    "def çözünürlük_belirle(row):\n",
    "    for s in ekran_kalitesi:\n",
    "        if s in row['Ürün Adı']:\n",
    "            return s\n",
    "    return 'Other'\n",
    "\n",
    "df_combined['Çözünürlük'] = df_combined.apply(çözünürlük_belirle, axis=1)\n",
    "\n",
    "teknoloji = ['Google TV','Uydu Alıcısı','Smart TV','Smart LED TV','Smart','Google Smart','Uydu Alıcılı']\n",
    "\n",
    "def smart_teknoloji_belirle(row):\n",
    "    for t in teknoloji:\n",
    "        if t in row['Ürün Adı']:\n",
    "            return t\n",
    "    return 'Other'\n",
    "\n",
    "df_combined['Teknoloji'] = df_combined.apply(smart_teknoloji_belirle, axis=1)"
   ]
  },
  {
   "cell_type": "markdown",
   "metadata": {},
   "source": [
    "## 🌟 Consumer Trust Patterns: Reviews vs Ratings Analysis\n",
    "\n",
    "Does more reviews mean higher ratings? How do different display technologies perform in customer satisfaction? This scatter plot reveals fascinating patterns in consumer behavior and product quality perception."
   ]
  },
  {
   "cell_type": "code",
   "execution_count": null,
   "metadata": {},
   "outputs": [],
   "source": [
    "#Relationship between review count and user rating\n",
    "plt.figure(figsize=(10, 6))\n",
    "sns.scatterplot(data=df_combined, x='Yorum Sayisi', y='Kullanici Puani', hue='Ekran', style='Çözünürlük', s=100)\n",
    "plt.title('Relationship Between Review Count and User Rating')\n",
    "plt.xlabel('Review Count')\n",
    "plt.ylabel('User Rating')\n",
    "plt.legend()\n",
    "plt.show()"
   ]
  },
  {
   "cell_type": "markdown",
   "metadata": {},
   "source": [
    "## 💎 The Technology Premium Matrix: How Much Extra Do Advanced Features Cost?\n",
    "\n",
    "This analysis reveals the price premiums consumers pay for cutting-edge display technologies and resolutions. OLED vs QLED vs LED - which technology commands the highest premium in Turkey's market?"
   ]
  },
  {
   "cell_type": "code",
   "execution_count": null,
   "metadata": {},
   "outputs": [],
   "source": [
    "df_combined.groupby(['Ekran','Çözünürlük','Teknoloji'])['Fiyat'].mean()\n",
    "plt.figure(figsize=(12, 8))\n",
    "sns.boxplot(data=df_combined, x='Ekran', y='Fiyat', hue='Çözünürlük')\n",
    "plt.title('TV Prices by Display Technology and Resolution')\n",
    "plt.xlabel('Display Technology')\n",
    "plt.ylabel('Price (TL)')\n",
    "plt.legend(title='Resolution')\n",
    "plt.show()"
   ]
  },
  {
   "cell_type": "markdown",
   "metadata": {},
   "source": [
    "## 🏆 Consumer Champions: The Most Popular TV Models in Turkey\n",
    "\n",
    "Which specific TV models are Turkish consumers gravitating towards? This analysis reveals the winners in Turkey's competitive TV market and the features that drive mass appeal."
   ]
  },
  {
   "cell_type": "code",
   "execution_count": null,
   "metadata": {},
   "outputs": [],
   "source": [
    "#Most preferred products.\n",
    "# Product name shortening function\n",
    "def urun_adi_kisalt(urun_adi, max_uzunluk=30):\n",
    "    if len(urun_adi) > max_uzunluk:\n",
    "        return urun_adi[:max_uzunluk] + \"...\"\n",
    "    return urun_adi\n",
    "\n",
    "en_cok_tercih_edilen = df_combined['Ürün Adı'].value_counts().head(10)\n",
    "kisaltilmis_adlar = [urun_adi_kisalt(ad) for ad in en_cok_tercih_edilen.index]\n",
    "\n",
    "plt.figure(figsize=(15, 10))\n",
    "bars = plt.bar(range(len(en_cok_tercih_edilen)), en_cok_tercih_edilen.values, color='orange')\n",
    "plt.xlabel('Product Name')\n",
    "plt.ylabel('Preference Count')\n",
    "plt.title('Most Preferred TV Models')\n",
    "plt.xticks(range(len(en_cok_tercih_edilen)), kisaltilmis_adlar, rotation=45, ha='right')\n",
    "plt.tight_layout()\n",
    "plt.show()"
   ]
  },
  {
   "cell_type": "markdown",
   "metadata": {},
   "source": [
    "## 🎮 Smart TV Operating System Wars: Price Impact Analysis\n",
    "\n",
    "Google TV vs Smart TV vs other operating systems - how do different smart TV platforms affect pricing? This analysis reveals the premium (or discount) associated with different TV operating systems in Turkey's market."
   ]
  },
  {
   "cell_type": "code",
   "execution_count": null,
   "metadata": {},
   "outputs": [],
   "source": [
    "df_combined.groupby('Fiyat')['Teknoloji'].value_counts().unstack().plot(kind='box', stacked=True, figsize=(15, 10))\n",
    "plt.xlabel('Price')\n",
    "plt.ylabel('Technology Count')\n",
    "plt.title('Technology Distribution by Price')\n",
    "plt.legend(title='Technology')\n",
    "plt.show()"
   ]
  },
  {
   "cell_type": "markdown",
   "metadata": {},
   "source": [
    "## 📈 The Sweet Spot Discovery: Where Do Most TV Prices Cluster?\n",
    "\n",
    "Understanding the price distribution helps identify the market's sweet spots - where most consumers are comfortable spending and where the competition is fiercest."
   ]
  },
  {
   "cell_type": "code",
   "execution_count": null,
   "metadata": {},
   "outputs": [],
   "source": [
    "#Price distribution histogram\n",
    "plt.figure(figsize=(10, 6))\n",
    "sns.histplot(df_combined['Fiyat'], bins=30, kde=True)\n",
    "plt.xlabel('Price (TL)')\n",
    "plt.ylabel('Frequency')\n",
    "plt.title('TV Price Distribution')\n",
    "plt.show()"
   ]
  },
  {
   "cell_type": "markdown",
   "metadata": {},
   "source": [
    "## 📅 Seasonal Strategy Revealed: Price Fluctuations Over Time\n",
    "\n",
    "When do prices drop? Are there specific discount seasons? This time-series analysis reveals the strategic timing of price adjustments and promotional periods in Turkey's e-commerce TV market."
   ]
  },
  {
   "cell_type": "code",
   "execution_count": null,
   "metadata": {},
   "outputs": [],
   "source": [
    "#Average price over time\n",
    "plt.figure(figsize=(12, 6))\n",
    "df_combined.groupby('Tarih')['Fiyat'].mean().plot(kind='line', marker='o')\n",
    "plt.xlabel('Date')\n",
    "plt.ylabel('Average Price (TL)')\n",
    "plt.title('Average TV Prices Over Time')\n",
    "plt.xticks(rotation=45)\n",
    "plt.grid()\n",
    "plt.tight_layout()\n",
    "plt.show()"
   ]
  },
  {
   "cell_type": "markdown",
   "metadata": {},
   "source": [
    "### 🎯 Key Insight: The Discount Period Discovery!\n",
    "\n",
    "**MAJOR FINDING:** A significant discount period is clearly visible in the chart! This suggests coordinated promotional strategies across both platforms, likely timed around major shopping events like Black Friday, New Year sales, or back-to-school periods."
   ]
  },
  {
   "cell_type": "markdown",
   "metadata": {},
   "source": [
    "## 🔗 The Correlation Web: Understanding Market Relationships\n",
    "\n",
    "Our final analysis reveals the hidden connections between price, ratings, reviews, and other market factors. These correlations unlock the secret relationships driving Turkey's TV e-commerce market."
   ]
  },
  {
   "cell_type": "code",
   "execution_count": null,
   "metadata": {},
   "outputs": [],
   "source": [
    "#Correlation heatmap\n",
    "plt.figure(figsize=(12, 8))\n",
    "numeric_columns = df_combined.select_dtypes(include=[np.number])\n",
    "sns.heatmap(numeric_columns.corr(), annot=True, cmap='coolwarm', fmt=\".2f\")\n",
    "plt.title('Correlation Heatmap')\n",
    "plt.show()"
   ]
  },
  {
   "cell_type": "markdown",
   "metadata": {},
   "source": [
    "---\n",
    "\n",
    "## 🎯 Strategic Market Insights: Key Takeaways\n",
    "\n",
    "Our comprehensive analysis of Turkey's e-commerce TV market reveals several game-changing insights:\n",
    "\n",
    "### 💰 **Pricing Strategy Discoveries:**\n",
    "1. **Premium Brand Hierarchy** - Clear price positioning exists with certain brands commanding significant premiums\n",
    "2. **Technology Premium Matrix** - Advanced display technologies (OLED, QLED) justify substantial price increases\n",
    "3. **Seasonal Discount Patterns** - Coordinated promotional periods create significant price fluctuations\n",
    "\n",
    "### 🏆 **Consumer Behavior Insights:**\n",
    "1. **Review-Rating Dynamics** - Complex relationships between product popularity and customer satisfaction\n",
    "2. **Technology Adoption Patterns** - Smart TV features and high resolutions drive consumer preferences\n",
    "3. **Platform Competition Effects** - Both Trendyol and Hepsiburada show distinct inventory and pricing strategies\n",
    "\n",
    "### 📊 **Market Structure Revelations:**\n",
    "1. **Price Clustering** - Most products concentrate in specific price ranges, revealing market sweet spots\n",
    "2. **Feature-Price Correlation** - Clear relationships between technical specifications and pricing\n",
    "3. **Competitive Dynamics** - Platform-specific advantages and market positioning strategies\n",
    "\n",
    "### 🚀 **Strategic Implications:**\n",
    "- **For Retailers:** Optimal pricing windows and promotional timing strategies\n",
    "- **For Brands:** Technology investment priorities and market positioning opportunities\n",
    "- **For Consumers:** Best timing for purchases and value-for-money insights\n",
    "\n",
    "This analysis provides a data-driven foundation for understanding Turkey's dynamic e-commerce TV market and the strategic moves shaping its future!\n",
    "\n",
    "---\n",
    "\n",
    "*Thank you for exploring Turkey's e-commerce TV market with us! If you found these insights valuable, please upvote and share your thoughts about the Turkish market dynamics in the comments below.* 🇹🇷📺✨"
   ]
  }
 ],
 "metadata": {
  "kernelspec": {
   "display_name": "Python 3",
   "language": "python",
   "name": "python3"
  },
  "language_info": {
   "codemirror_mode": {
    "name": "ipython",
    "version": 3
   },
   "file_extension": ".py",
   "name": "python",
   "nbconvert_exporter": "python",
   "pygments_lexer": "ipython3",
   "version": "3.8.5"
  }
 },
 "nbformat": 4,
 "nbformat_minor": 4
}
