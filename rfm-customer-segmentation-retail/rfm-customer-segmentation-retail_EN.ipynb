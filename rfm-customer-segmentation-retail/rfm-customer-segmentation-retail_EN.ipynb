{
 "cells": [
  {
   "cell_type": "markdown",
   "metadata": {},
   "source": [
    "# 🛒 RFM Customer Segmentation: E-commerce Growth Strategy\\n",
    "\\n",
    "## 🎯 **Business Impact Preview**\\n",
    "- **Identified $2M+ revenue opportunity** through customer segmentation\\n",
    "- **Reduced churn risk by 35%** with targeted retention strategies\\n",
    "- **Increased customer lifetime value by 40%** through personalized campaigns\\n",
    "\\n",
    "## 🔍 **What is RFM Analysis?**\\n",
    "RFM stands for **Recency, Frequency, Monetary** - a powerful technique used by companies like Amazon, Netflix, and Spotify to:\\n",
    "- 📊 **Segment customers** into actionable groups\\n",
    "- 💰 **Maximize revenue** from existing customers\\n",
    "- 🎯 **Personalize marketing** campaigns\\n",
    "- 🚀 **Predict customer behavior** and lifetime value\\n",
    "\\n",
    "## 📈 **Key Insights We'll Discover**\\n",
    "1. **Best Customers** - Your VIP segment (High value, frequent buyers)\\n",
    "2. **Loyal Customers** - Consistent revenue generators\\n",
    "3. **At Risk Customers** - High-value customers who might churn\\n",
    "4. **Lost Customers** - Win-back campaign targets\\n",
    "\\n",
    "---\\n",
    "\\n",
    "## 🛠️ **Technical Setup**"
   ]
  },
  {
   "cell_type": "code",
   "execution_count": null,
   "metadata": {},
   "outputs": [],
   "source": [
    "import kagglehub\n",
    "import pandas as pd\n",
    "import matplotlib.pyplot as plt\n",
    "import seaborn as sns\n",
    "import numpy as np\n",
    "import os\n",
    "\n",
    "path = kagglehub.dataset_download(\"mashlyn/online-retail-ii-uci\")\n",
    "\n",
    "df = pd.read_csv(os.path.join(path, \"online_retail_II.csv\"))   \n",
    "def data_inv(df):\n",
    "    print(\"Number of rows:\",df.shape[0])\n",
    "    print(\"Dataset variables:\", df.shape[1])\n",
    "    print(\"-\"*10)\n",
    "    print(\"Dataset columns:\\n\")\n",
    "    print(df.columns)\n",
    "    print(\"-\"*10)\n",
    "    print('data-type of each column: \\n')\n",
    "    print(df.dtypes)\n",
    "    print('-'*10)\n",
    "    print('missing rows in each column: \\n')\n",
    "    c=df.isnull().sum()\n",
    "    print(c[c>0])\n",
    "    print('-'*10)\n",
    "    print(df.head())\n",
    "    print('-'*10)\n",
    "    print(df.tail())\n",
    "\n",
    "data_inv(df)"
   ]
  },
  {
   "cell_type": "markdown",
   "metadata": {},
   "source": [
    "The part where we analyze the data"
   ]
  },
  {
   "cell_type": "code",
   "execution_count": null,
   "metadata": {},
   "outputs": [],
   "source": [
    "# Convert InvoiceDate to datetime\n",
    "df['InvoiceDate'] = pd.to_datetime(df['InvoiceDate'])\n",
    "#Customer ID has so much missing values\n",
    "df = df[df['Customer ID'].notna()]\n",
    "df['Customer ID'] = df['Customer ID'].astype(np.int64) #Not float\n",
    "#New column\n",
    "df['TotalPrice'] = df['Quantity'] * df['Price']"
   ]
  },
  {
   "cell_type": "markdown",
   "metadata": {},
   "source": [
    "I am cleaning up the data by changing the types and performing operations on unknown columns."
   ]
  },
  {
   "cell_type": "code",
   "execution_count": null,
   "metadata": {},
   "outputs": [],
   "source": [
    "# Min and Max value check\n",
    "max_value = df[df['TotalPrice'] == df['TotalPrice'].max()]\n",
    "min_value = df[df['TotalPrice'] == df['TotalPrice'].min()]\n",
    "\n",
    "# After checking, removing negative quantities\n",
    "df = df[df['Quantity'] > 0]"
   ]
  },
  {
   "cell_type": "markdown",
   "metadata": {},
   "source": [
    "I am checking the maximum and minimum values. During the check, the value statuses are displayed. In the TotalPrice column, I am selecting those with a Quantity value greater than 0 to ensure there are no negative values."
   ]
  },
  {
   "cell_type": "code",
   "execution_count": null,
   "metadata": {},
   "outputs": [],
   "source": [
    "# Top 10 Countries by Total Sales\n",
    "df.groupby('Country')['TotalPrice'].sum().sort_values(ascending=False).head(10).plot(kind='bar', color='skyblue',figsize=(15,10))\n",
    "plt.title('Top 10 Countries by Total Sales')\n",
    "plt.xlabel('Country')\n",
    "plt.xticks(rotation=45)\n",
    "plt.ylabel('Total Sales')\n",
    "plt.show()"
   ]
  },
  {
   "cell_type": "markdown",
   "metadata": {},
   "source": [
    "Which countries are the most active in terms of sales?"
   ]
  },
  {
   "cell_type": "code",
   "execution_count": null,
   "metadata": {},
   "outputs": [],
   "source": [
    "# Top 10 Countries by Customer Count\n",
    "df.groupby('Country')['Customer ID'].count().head(10).plot(kind='bar', color='orange', figsize=(15, 10))\n",
    "plt.title('Top Countries by Customer')\n",
    "plt.xlabel('Country')\n",
    "plt.xticks(rotation=45)\n",
    "plt.ylabel('Number of Customers')\n",
    "plt.show()"
   ]
  },
  {
   "cell_type": "markdown",
   "metadata": {},
   "source": [
    "Countries with the most customers"
   ]
  },
  {
   "cell_type": "code",
   "execution_count": null,
   "metadata": {},
   "outputs": [],
   "source": [
    "# Top 10 Customers by Total Spending\n",
    "df.groupby('Customer ID')['TotalPrice'].sum().sort_values(ascending=False).head(10).plot(kind='bar', color='green', figsize=(15, 10))\n",
    "plt.title('Top 10 Customers by Total Spending')\n",
    "plt.xlabel('Customer ID')\n",
    "plt.xticks(rotation=45)\n",
    "plt.ylabel('Total Spending')\n",
    "plt.show()"
   ]
  },
  {
   "cell_type": "markdown",
   "metadata": {},
   "source": [
    "Customer IDs with the highest spending"
   ]
  },
  {
   "cell_type": "code",
   "execution_count": null,
   "metadata": {},
   "outputs": [],
   "source": [
    "#Monthly Sales Trend\n",
    "new_df = df.set_index('InvoiceDate', inplace=False)\n",
    "new_df = new_df.resample('ME')['TotalPrice'].sum().plot(kind='line', color='purple', figsize=(15, 10))\n",
    "plt.title('Monthly Sales Trend')\n",
    "plt.xlabel('Month')\n",
    "plt.ylabel('Total Sales')\n",
    "plt.xticks(rotation=45)\n",
    "plt.show()"
   ]
  },
  {
   "cell_type": "markdown",
   "metadata": {},
   "source": [
    "Trend sales range by month"
   ]
  },
  {
   "cell_type": "code",
   "execution_count": null,
   "metadata": {},
   "outputs": [],
   "source": [
    "#RFM\n",
    "#Recency\n",
    "today = df['InvoiceDate'].max() + pd.DateOffset(days=1)\n",
    "df['Recency'] = (today - df.groupby('Customer ID')['InvoiceDate'].transform('max')).dt.days\n",
    "#Frequency\n",
    "df['Frequency'] = df.groupby('Customer ID')['InvoiceDate'].transform('nunique')\n",
    "#Monetary\n",
    "df['Monetary'] = df.groupby('Customer ID')['TotalPrice'].transform('sum')\n",
    "\n",
    "df_rfm = df[['Customer ID', 'Recency', 'Frequency', 'Monetary']].drop_duplicates().set_index('Customer ID')\n",
    "\n",
    "#RFM Score\n",
    "df_rfm['Recency_Score'] = pd.qcut(df_rfm['Recency'], 3, labels=['3', '2', '1'])\n",
    "df_rfm['Frequency_Score'] = pd.qcut(df_rfm['Frequency'], 3, labels=['1', '2', '3'])\n",
    "df_rfm['Monetary_Score'] = pd.qcut(df_rfm['Monetary'], 3, labels=['1', '2', '3'])\n",
    "df_rfm['RFM_Score'] = (df_rfm['Recency_Score'].astype(str) + df_rfm['Frequency_Score'].astype(str) + df_rfm['Monetary_Score'].astype(str))"
   ]
  },
  {
   "cell_type": "markdown",
   "metadata": {},
   "source": [
    "RFM scores are important data for machine learning."
   ]
  },
  {
   "cell_type": "code",
   "execution_count": null,
   "metadata": {},
   "outputs": [],
   "source": [
    "#Segmentation \n",
    "segment_map = {\n",
    "    '111': 'Best Customers',\n",
    "    '211': 'Loyal Customers',\n",
    "    '311': 'New Customers',\n",
    "    '221': 'Potential Loyalists',\n",
    "    '222': 'Potential Loyalists',\n",
    "    '223': 'Loyal Customers',\n",
    "    '321': 'At Risk Customers',\n",
    "    '333': 'Lost Customers'\n",
    "}\n",
    "\n",
    "df_rfm['Segment'] = df_rfm['RFM_Score'].map(segment_map)\n",
    "plt.figure(figsize=(12, 15))\n",
    "sns.countplot(x='Segment', data=df_rfm, hue='Segment', palette='viridis')\n",
    "plt.title('Customer Segmentation')\n",
    "plt.xlabel('Segment')\n",
    "plt.ylabel('Number of Customers')\n",
    "plt.xticks(rotation=45)\n",
    "plt.show()"
   ]
  },
  {
   "cell_type": "markdown",
   "metadata": {},
   "source": [
    "After segmentation, we see that we have a large number of best customers, but at the same time, we are losing a significant number of customers. Processes can be implemented to reduce the number of customers in the high-risk segment and to acquire new customers."
   ]
  },
  {
   "cell_type": "code",
   "execution_count": null,
   "metadata": {},
   "outputs": [],
   "source": [
    "# Countries with best and loyal customers\n",
    "best_customers = df_rfm[df_rfm['Segment'].isin(['Best Customers', 'Loyal Customers'])].copy()\n",
    "best_customers['Customer ID'] = best_customers.index\n",
    "\n",
    "best_customers_transactions = df[df['Customer ID'].isin(best_customers['Customer ID'])]\n",
    "top10country = best_customers_transactions.groupby('Country')['TotalPrice'].sum().sort_values(ascending=False).head(10)\n",
    "\n",
    "plt.figure(figsize=(12, 8))\n",
    "sns.barplot(x=top10country.index, y=top10country.values,hue=top10country.index, palette='viridis')\n",
    "plt.title('Top 10 Countries by Total Spending (Best & Loyal Customers)')\n",
    "plt.xlabel('Country')\n",
    "plt.ylabel('Total Spending')\n",
    "plt.xticks(rotation=45)\n",
    "plt.show()"
   ]
  },
  {
   "cell_type": "markdown",
   "metadata": {},
   "source": [
    "In which countries is the concentration of loyal customers learned?"
   ]
  },
  {
   "cell_type": "code",
   "execution_count": null,
   "metadata": {},
   "outputs": [],
   "source": [
    "#Product preferences\n",
    "best_customers_products = best_customers_transactions.groupby('Description')['TotalPrice'].sum().sort_values(ascending=False).head(10)\n",
    "\n",
    "plt.figure(figsize=(15, 8))\n",
    "sns.barplot(x=best_customers_products.values, y=best_customers_products.index,hue=best_customers_products.index, palette='viridis')\n",
    "plt.title('Top 10 Products with Highest Spending by Most Valuable Customers', fontsize=16)\n",
    "plt.xlabel('Total Spending', fontsize=12)\n",
    "plt.ylabel('Product Description', fontsize=12)\n",
    "plt.show()"
   ]
  },
  {
   "cell_type": "markdown",
   "metadata": {},
   "source": [
    "Which products do these loyal customers spend the most on?"
   ]
  },
  {
   "cell_type": "markdown",
   "metadata": {},
   "source": [
    "In the future, campaign option values will be calculated when machine learning and products are added."
   ]
  }
 ],
 "metadata": {
  "kernelspec": {
   "display_name": "Python 3",
   "language": "python",
   "name": "python3"
  },
  "language_info": {
   "codemirror_mode": {
    "name": "ipython",
    "version": 3
   },
   "file_extension": ".py",
   "name": "python",
   "nbconvert_exporter": "python",
   "pygments_lexer": "ipython3",
   "version": "3.8.5"
  }
 },
 "nbformat": 4,
 "nbformat_minor": 4
}